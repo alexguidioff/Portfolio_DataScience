{
 "cells": [
  {
   "cell_type": "markdown",
   "metadata": {
    "toc": true
   },
   "source": [
    "<h1>Table of Contents<span class=\"tocSkip\"></span></h1>\n",
    "<div class=\"toc\"><ul class=\"toc-item\"></ul></div>"
   ]
  },
  {
   "cell_type": "markdown",
   "metadata": {},
   "source": [
    "**CONTESTO:**\n",
    "Si prevede che la nostra popolazione mondiale crescerà dai 7,3 miliardi di oggi a 9,7 miliardi nell'anno 2050. Trovare soluzioni per nutrire la popolazione mondiale in crescita è diventato un tema scottante per le organizzazioni, gli imprenditori e i filantropi dell'agricoltura e dell'alimentazione.\n",
    "\n",
    "Queste soluzioni vanno dal cambiamento del modo in cui coltiviamo e alleviamo il nostro cibo al cambiamento del modo in cui mangiamo. \n",
    "Per rendere le cose più difficili, il clima della Terra sta cambiando ed è influenzato dall'agricoltura. Poiché la popolazione mondiale si è espansa e si è arricchita, la domanda di cibo, energia e acqua ha visto un rapido aumento.\n",
    "Non solo è aumentata la domanda per tutti e tre, ma sono anche fortemente interconnessi: la produzione alimentare richiede acqua ed energia; la produzione energetica tradizionale richiede risorse idriche; l'agricoltura fornisce una potenziale fonte di energia e tanta acqua. \n",
    " \n",
    " \n",
    "**OBIETTIVO:** \n",
    "A partire dai dati inerenti alla produzione e distribuzione mondiale di alimenti e mangimi si analizzi l'impatto negativo che questi hanno sull'ambiente. Una volta terminata l'EDA, utilizza i metodi di scaling ed encoding visti a lezione per preparare al meglio il dataset per un ipotetico modello predittivo ( vedi data preprocessing ) :\n",
    "\n",
    "qui di seguito alcune domande per ispirarti\n",
    "\n",
    "- quali sono i 5 alimenti e mangimi che hanno l'impatto peggiore sull'ambiente ?\n",
    "- qual è il paese che nel tempo è più riuscito a diminuire l'impatto negativo della propria produzione e distribuzione di alimenti e mangimi?\n",
    "\n",
    "\n",
    "**Dati a disposizione:**\n",
    "\n",
    "- A questo link (https://www.kaggle.com/datasets/dorbicycle/world-foodfeed-production), sul sito di Kaggle, trovi il primo dataset utile che fornisce una panoramica della nostra produzione alimentare mondiale, concentrandosi su un confronto tra alimenti prodotti per il consumo umano e mangimi prodotti per animali.\n",
    "\n",
    "- Questo dataset è messo a disposizione dall’Organizzazione delle Nazioni Unite, che per l'alimentazione e l'agricoltura fornisce libero accesso ai dati su cibo e agricoltura per oltre 245 paesi e territori (qui il link al sito ufficiale https://www.kaggle.com/dorbicycle/world-foodfeed-production), dall'anno 1961 all'aggiornamento più recente.\n",
    "\n",
    "- Mentre il secondo dataset utile presente a questo link (https://www.kaggle.com/selfvivek/environment-impact-of-food-production) contiene i 43 alimenti più comuni coltivati ​​in tutto il mondo e 23 colonne che descrivono valori come l’utilizzo dell'acqua ed emissioni di gas serra."
   ]
  },
  {
   "cell_type": "code",
   "execution_count": 1,
   "metadata": {},
   "outputs": [],
   "source": [
    "import pandas as pd\n",
    "import numpy as np\n",
    "import matplotlib.pyplot as plt\n",
    "import seaborn as sns\n",
    "from sklearn.preprocessing import StandardScaler\n",
    "#from mpl_toolkits.basemap import Basemap"
   ]
  },
  {
   "cell_type": "code",
   "execution_count": 2,
   "metadata": {
    "scrolled": false
   },
   "outputs": [],
   "source": [
    "df_productions = pd.read_csv(\"FAO.csv\",encoding='latin')\n",
    "df_impact = pd.read_csv(\"Food_Production.csv\")"
   ]
  },
  {
   "cell_type": "markdown",
   "metadata": {},
   "source": [
    "#### Analizziamo i dataset"
   ]
  },
  {
   "cell_type": "code",
   "execution_count": 3,
   "metadata": {},
   "outputs": [
    {
     "data": {
      "text/html": [
       "<div>\n",
       "<style scoped>\n",
       "    .dataframe tbody tr th:only-of-type {\n",
       "        vertical-align: middle;\n",
       "    }\n",
       "\n",
       "    .dataframe tbody tr th {\n",
       "        vertical-align: top;\n",
       "    }\n",
       "\n",
       "    .dataframe thead th {\n",
       "        text-align: right;\n",
       "    }\n",
       "</style>\n",
       "<table border=\"1\" class=\"dataframe\">\n",
       "  <thead>\n",
       "    <tr style=\"text-align: right;\">\n",
       "      <th></th>\n",
       "      <th>Food product</th>\n",
       "      <th>Land use change</th>\n",
       "      <th>Animal Feed</th>\n",
       "      <th>Farm</th>\n",
       "      <th>Processing</th>\n",
       "      <th>Transport</th>\n",
       "      <th>Packging</th>\n",
       "      <th>Retail</th>\n",
       "      <th>Total_emissions</th>\n",
       "      <th>Eutrophying emissions per 1000kcal (gPO₄eq per 1000kcal)</th>\n",
       "      <th>...</th>\n",
       "      <th>Freshwater withdrawals per 100g protein (liters per 100g protein)</th>\n",
       "      <th>Freshwater withdrawals per kilogram (liters per kilogram)</th>\n",
       "      <th>Greenhouse gas emissions per 1000kcal (kgCO₂eq per 1000kcal)</th>\n",
       "      <th>Greenhouse gas emissions per 100g protein (kgCO₂eq per 100g protein)</th>\n",
       "      <th>Land use per 1000kcal (m² per 1000kcal)</th>\n",
       "      <th>Land use per kilogram (m² per kilogram)</th>\n",
       "      <th>Land use per 100g protein (m² per 100g protein)</th>\n",
       "      <th>Scarcity-weighted water use per kilogram (liters per kilogram)</th>\n",
       "      <th>Scarcity-weighted water use per 100g protein (liters per 100g protein)</th>\n",
       "      <th>Scarcity-weighted water use per 1000kcal (liters per 1000 kilocalories)</th>\n",
       "    </tr>\n",
       "  </thead>\n",
       "  <tbody>\n",
       "    <tr>\n",
       "      <th>0</th>\n",
       "      <td>Wheat &amp; Rye (Bread)</td>\n",
       "      <td>0.1</td>\n",
       "      <td>0.0</td>\n",
       "      <td>0.8</td>\n",
       "      <td>0.2</td>\n",
       "      <td>0.1</td>\n",
       "      <td>0.1</td>\n",
       "      <td>0.1</td>\n",
       "      <td>1.4</td>\n",
       "      <td>NaN</td>\n",
       "      <td>...</td>\n",
       "      <td>NaN</td>\n",
       "      <td>NaN</td>\n",
       "      <td>NaN</td>\n",
       "      <td>NaN</td>\n",
       "      <td>NaN</td>\n",
       "      <td>NaN</td>\n",
       "      <td>NaN</td>\n",
       "      <td>NaN</td>\n",
       "      <td>NaN</td>\n",
       "      <td>NaN</td>\n",
       "    </tr>\n",
       "    <tr>\n",
       "      <th>1</th>\n",
       "      <td>Maize (Meal)</td>\n",
       "      <td>0.3</td>\n",
       "      <td>0.0</td>\n",
       "      <td>0.5</td>\n",
       "      <td>0.1</td>\n",
       "      <td>0.1</td>\n",
       "      <td>0.1</td>\n",
       "      <td>0.0</td>\n",
       "      <td>1.1</td>\n",
       "      <td>NaN</td>\n",
       "      <td>...</td>\n",
       "      <td>NaN</td>\n",
       "      <td>NaN</td>\n",
       "      <td>NaN</td>\n",
       "      <td>NaN</td>\n",
       "      <td>NaN</td>\n",
       "      <td>NaN</td>\n",
       "      <td>NaN</td>\n",
       "      <td>NaN</td>\n",
       "      <td>NaN</td>\n",
       "      <td>NaN</td>\n",
       "    </tr>\n",
       "    <tr>\n",
       "      <th>2</th>\n",
       "      <td>Barley (Beer)</td>\n",
       "      <td>0.0</td>\n",
       "      <td>0.0</td>\n",
       "      <td>0.2</td>\n",
       "      <td>0.1</td>\n",
       "      <td>0.0</td>\n",
       "      <td>0.5</td>\n",
       "      <td>0.3</td>\n",
       "      <td>1.1</td>\n",
       "      <td>NaN</td>\n",
       "      <td>...</td>\n",
       "      <td>NaN</td>\n",
       "      <td>NaN</td>\n",
       "      <td>NaN</td>\n",
       "      <td>NaN</td>\n",
       "      <td>NaN</td>\n",
       "      <td>NaN</td>\n",
       "      <td>NaN</td>\n",
       "      <td>NaN</td>\n",
       "      <td>NaN</td>\n",
       "      <td>NaN</td>\n",
       "    </tr>\n",
       "    <tr>\n",
       "      <th>3</th>\n",
       "      <td>Oatmeal</td>\n",
       "      <td>0.0</td>\n",
       "      <td>0.0</td>\n",
       "      <td>1.4</td>\n",
       "      <td>0.0</td>\n",
       "      <td>0.1</td>\n",
       "      <td>0.1</td>\n",
       "      <td>0.0</td>\n",
       "      <td>1.6</td>\n",
       "      <td>4.281357</td>\n",
       "      <td>...</td>\n",
       "      <td>371.076923</td>\n",
       "      <td>482.4</td>\n",
       "      <td>0.945482</td>\n",
       "      <td>1.907692</td>\n",
       "      <td>2.897446</td>\n",
       "      <td>7.6</td>\n",
       "      <td>5.846154</td>\n",
       "      <td>18786.2</td>\n",
       "      <td>14450.92308</td>\n",
       "      <td>7162.104461</td>\n",
       "    </tr>\n",
       "    <tr>\n",
       "      <th>4</th>\n",
       "      <td>Rice</td>\n",
       "      <td>0.0</td>\n",
       "      <td>0.0</td>\n",
       "      <td>3.6</td>\n",
       "      <td>0.1</td>\n",
       "      <td>0.1</td>\n",
       "      <td>0.1</td>\n",
       "      <td>0.1</td>\n",
       "      <td>4.0</td>\n",
       "      <td>9.514379</td>\n",
       "      <td>...</td>\n",
       "      <td>3166.760563</td>\n",
       "      <td>2248.4</td>\n",
       "      <td>1.207271</td>\n",
       "      <td>6.267606</td>\n",
       "      <td>0.759631</td>\n",
       "      <td>2.8</td>\n",
       "      <td>3.943662</td>\n",
       "      <td>49576.3</td>\n",
       "      <td>69825.77465</td>\n",
       "      <td>13449.891480</td>\n",
       "    </tr>\n",
       "  </tbody>\n",
       "</table>\n",
       "<p>5 rows × 23 columns</p>\n",
       "</div>"
      ],
      "text/plain": [
       "          Food product  Land use change  Animal Feed  Farm  Processing  \\\n",
       "0  Wheat & Rye (Bread)              0.1          0.0   0.8         0.2   \n",
       "1         Maize (Meal)              0.3          0.0   0.5         0.1   \n",
       "2        Barley (Beer)              0.0          0.0   0.2         0.1   \n",
       "3              Oatmeal              0.0          0.0   1.4         0.0   \n",
       "4                 Rice              0.0          0.0   3.6         0.1   \n",
       "\n",
       "   Transport  Packging  Retail  Total_emissions  \\\n",
       "0        0.1       0.1     0.1              1.4   \n",
       "1        0.1       0.1     0.0              1.1   \n",
       "2        0.0       0.5     0.3              1.1   \n",
       "3        0.1       0.1     0.0              1.6   \n",
       "4        0.1       0.1     0.1              4.0   \n",
       "\n",
       "   Eutrophying emissions per 1000kcal (gPO₄eq per 1000kcal)  ...  \\\n",
       "0                                                NaN         ...   \n",
       "1                                                NaN         ...   \n",
       "2                                                NaN         ...   \n",
       "3                                           4.281357         ...   \n",
       "4                                           9.514379         ...   \n",
       "\n",
       "   Freshwater withdrawals per 100g protein (liters per 100g protein)  \\\n",
       "0                                                NaN                   \n",
       "1                                                NaN                   \n",
       "2                                                NaN                   \n",
       "3                                         371.076923                   \n",
       "4                                        3166.760563                   \n",
       "\n",
       "   Freshwater withdrawals per kilogram (liters per kilogram)  \\\n",
       "0                                                NaN           \n",
       "1                                                NaN           \n",
       "2                                                NaN           \n",
       "3                                              482.4           \n",
       "4                                             2248.4           \n",
       "\n",
       "   Greenhouse gas emissions per 1000kcal (kgCO₂eq per 1000kcal)  \\\n",
       "0                                                NaN              \n",
       "1                                                NaN              \n",
       "2                                                NaN              \n",
       "3                                           0.945482              \n",
       "4                                           1.207271              \n",
       "\n",
       "   Greenhouse gas emissions per 100g protein (kgCO₂eq per 100g protein)  \\\n",
       "0                                                NaN                      \n",
       "1                                                NaN                      \n",
       "2                                                NaN                      \n",
       "3                                           1.907692                      \n",
       "4                                           6.267606                      \n",
       "\n",
       "   Land use per 1000kcal (m² per 1000kcal)  \\\n",
       "0                                      NaN   \n",
       "1                                      NaN   \n",
       "2                                      NaN   \n",
       "3                                 2.897446   \n",
       "4                                 0.759631   \n",
       "\n",
       "   Land use per kilogram (m² per kilogram)  \\\n",
       "0                                      NaN   \n",
       "1                                      NaN   \n",
       "2                                      NaN   \n",
       "3                                      7.6   \n",
       "4                                      2.8   \n",
       "\n",
       "   Land use per 100g protein (m² per 100g protein)  \\\n",
       "0                                              NaN   \n",
       "1                                              NaN   \n",
       "2                                              NaN   \n",
       "3                                         5.846154   \n",
       "4                                         3.943662   \n",
       "\n",
       "   Scarcity-weighted water use per kilogram (liters per kilogram)  \\\n",
       "0                                                NaN                \n",
       "1                                                NaN                \n",
       "2                                                NaN                \n",
       "3                                            18786.2                \n",
       "4                                            49576.3                \n",
       "\n",
       "   Scarcity-weighted water use per 100g protein (liters per 100g protein)  \\\n",
       "0                                                NaN                        \n",
       "1                                                NaN                        \n",
       "2                                                NaN                        \n",
       "3                                        14450.92308                        \n",
       "4                                        69825.77465                        \n",
       "\n",
       "   Scarcity-weighted water use per 1000kcal (liters per 1000 kilocalories)  \n",
       "0                                                NaN                        \n",
       "1                                                NaN                        \n",
       "2                                                NaN                        \n",
       "3                                        7162.104461                        \n",
       "4                                       13449.891480                        \n",
       "\n",
       "[5 rows x 23 columns]"
      ]
     },
     "execution_count": 3,
     "metadata": {},
     "output_type": "execute_result"
    }
   ],
   "source": [
    "df_impact.head()"
   ]
  },
  {
   "cell_type": "code",
   "execution_count": 4,
   "metadata": {},
   "outputs": [
    {
     "data": {
      "text/html": [
       "<div>\n",
       "<style scoped>\n",
       "    .dataframe tbody tr th:only-of-type {\n",
       "        vertical-align: middle;\n",
       "    }\n",
       "\n",
       "    .dataframe tbody tr th {\n",
       "        vertical-align: top;\n",
       "    }\n",
       "\n",
       "    .dataframe thead th {\n",
       "        text-align: right;\n",
       "    }\n",
       "</style>\n",
       "<table border=\"1\" class=\"dataframe\">\n",
       "  <thead>\n",
       "    <tr style=\"text-align: right;\">\n",
       "      <th></th>\n",
       "      <th>Area Abbreviation</th>\n",
       "      <th>Area Code</th>\n",
       "      <th>Area</th>\n",
       "      <th>Item Code</th>\n",
       "      <th>Item</th>\n",
       "      <th>Element Code</th>\n",
       "      <th>Element</th>\n",
       "      <th>Unit</th>\n",
       "      <th>latitude</th>\n",
       "      <th>longitude</th>\n",
       "      <th>...</th>\n",
       "      <th>Y2004</th>\n",
       "      <th>Y2005</th>\n",
       "      <th>Y2006</th>\n",
       "      <th>Y2007</th>\n",
       "      <th>Y2008</th>\n",
       "      <th>Y2009</th>\n",
       "      <th>Y2010</th>\n",
       "      <th>Y2011</th>\n",
       "      <th>Y2012</th>\n",
       "      <th>Y2013</th>\n",
       "    </tr>\n",
       "  </thead>\n",
       "  <tbody>\n",
       "    <tr>\n",
       "      <th>0</th>\n",
       "      <td>AFG</td>\n",
       "      <td>2</td>\n",
       "      <td>Afghanistan</td>\n",
       "      <td>2511</td>\n",
       "      <td>Wheat and products</td>\n",
       "      <td>5142</td>\n",
       "      <td>Food</td>\n",
       "      <td>1000 tonnes</td>\n",
       "      <td>33.94</td>\n",
       "      <td>67.71</td>\n",
       "      <td>...</td>\n",
       "      <td>3249.0</td>\n",
       "      <td>3486.0</td>\n",
       "      <td>3704.0</td>\n",
       "      <td>4164.0</td>\n",
       "      <td>4252.0</td>\n",
       "      <td>4538.0</td>\n",
       "      <td>4605.0</td>\n",
       "      <td>4711.0</td>\n",
       "      <td>4810</td>\n",
       "      <td>4895</td>\n",
       "    </tr>\n",
       "    <tr>\n",
       "      <th>1</th>\n",
       "      <td>AFG</td>\n",
       "      <td>2</td>\n",
       "      <td>Afghanistan</td>\n",
       "      <td>2805</td>\n",
       "      <td>Rice (Milled Equivalent)</td>\n",
       "      <td>5142</td>\n",
       "      <td>Food</td>\n",
       "      <td>1000 tonnes</td>\n",
       "      <td>33.94</td>\n",
       "      <td>67.71</td>\n",
       "      <td>...</td>\n",
       "      <td>419.0</td>\n",
       "      <td>445.0</td>\n",
       "      <td>546.0</td>\n",
       "      <td>455.0</td>\n",
       "      <td>490.0</td>\n",
       "      <td>415.0</td>\n",
       "      <td>442.0</td>\n",
       "      <td>476.0</td>\n",
       "      <td>425</td>\n",
       "      <td>422</td>\n",
       "    </tr>\n",
       "    <tr>\n",
       "      <th>2</th>\n",
       "      <td>AFG</td>\n",
       "      <td>2</td>\n",
       "      <td>Afghanistan</td>\n",
       "      <td>2513</td>\n",
       "      <td>Barley and products</td>\n",
       "      <td>5521</td>\n",
       "      <td>Feed</td>\n",
       "      <td>1000 tonnes</td>\n",
       "      <td>33.94</td>\n",
       "      <td>67.71</td>\n",
       "      <td>...</td>\n",
       "      <td>58.0</td>\n",
       "      <td>236.0</td>\n",
       "      <td>262.0</td>\n",
       "      <td>263.0</td>\n",
       "      <td>230.0</td>\n",
       "      <td>379.0</td>\n",
       "      <td>315.0</td>\n",
       "      <td>203.0</td>\n",
       "      <td>367</td>\n",
       "      <td>360</td>\n",
       "    </tr>\n",
       "    <tr>\n",
       "      <th>3</th>\n",
       "      <td>AFG</td>\n",
       "      <td>2</td>\n",
       "      <td>Afghanistan</td>\n",
       "      <td>2513</td>\n",
       "      <td>Barley and products</td>\n",
       "      <td>5142</td>\n",
       "      <td>Food</td>\n",
       "      <td>1000 tonnes</td>\n",
       "      <td>33.94</td>\n",
       "      <td>67.71</td>\n",
       "      <td>...</td>\n",
       "      <td>185.0</td>\n",
       "      <td>43.0</td>\n",
       "      <td>44.0</td>\n",
       "      <td>48.0</td>\n",
       "      <td>62.0</td>\n",
       "      <td>55.0</td>\n",
       "      <td>60.0</td>\n",
       "      <td>72.0</td>\n",
       "      <td>78</td>\n",
       "      <td>89</td>\n",
       "    </tr>\n",
       "    <tr>\n",
       "      <th>4</th>\n",
       "      <td>AFG</td>\n",
       "      <td>2</td>\n",
       "      <td>Afghanistan</td>\n",
       "      <td>2514</td>\n",
       "      <td>Maize and products</td>\n",
       "      <td>5521</td>\n",
       "      <td>Feed</td>\n",
       "      <td>1000 tonnes</td>\n",
       "      <td>33.94</td>\n",
       "      <td>67.71</td>\n",
       "      <td>...</td>\n",
       "      <td>120.0</td>\n",
       "      <td>208.0</td>\n",
       "      <td>233.0</td>\n",
       "      <td>249.0</td>\n",
       "      <td>247.0</td>\n",
       "      <td>195.0</td>\n",
       "      <td>178.0</td>\n",
       "      <td>191.0</td>\n",
       "      <td>200</td>\n",
       "      <td>200</td>\n",
       "    </tr>\n",
       "    <tr>\n",
       "      <th>...</th>\n",
       "      <td>...</td>\n",
       "      <td>...</td>\n",
       "      <td>...</td>\n",
       "      <td>...</td>\n",
       "      <td>...</td>\n",
       "      <td>...</td>\n",
       "      <td>...</td>\n",
       "      <td>...</td>\n",
       "      <td>...</td>\n",
       "      <td>...</td>\n",
       "      <td>...</td>\n",
       "      <td>...</td>\n",
       "      <td>...</td>\n",
       "      <td>...</td>\n",
       "      <td>...</td>\n",
       "      <td>...</td>\n",
       "      <td>...</td>\n",
       "      <td>...</td>\n",
       "      <td>...</td>\n",
       "      <td>...</td>\n",
       "      <td>...</td>\n",
       "    </tr>\n",
       "    <tr>\n",
       "      <th>21472</th>\n",
       "      <td>ZWE</td>\n",
       "      <td>181</td>\n",
       "      <td>Zimbabwe</td>\n",
       "      <td>2948</td>\n",
       "      <td>Milk - Excluding Butter</td>\n",
       "      <td>5142</td>\n",
       "      <td>Food</td>\n",
       "      <td>1000 tonnes</td>\n",
       "      <td>-19.02</td>\n",
       "      <td>29.15</td>\n",
       "      <td>...</td>\n",
       "      <td>373.0</td>\n",
       "      <td>357.0</td>\n",
       "      <td>359.0</td>\n",
       "      <td>356.0</td>\n",
       "      <td>341.0</td>\n",
       "      <td>385.0</td>\n",
       "      <td>418.0</td>\n",
       "      <td>457.0</td>\n",
       "      <td>426</td>\n",
       "      <td>451</td>\n",
       "    </tr>\n",
       "    <tr>\n",
       "      <th>21473</th>\n",
       "      <td>ZWE</td>\n",
       "      <td>181</td>\n",
       "      <td>Zimbabwe</td>\n",
       "      <td>2960</td>\n",
       "      <td>Fish, Seafood</td>\n",
       "      <td>5521</td>\n",
       "      <td>Feed</td>\n",
       "      <td>1000 tonnes</td>\n",
       "      <td>-19.02</td>\n",
       "      <td>29.15</td>\n",
       "      <td>...</td>\n",
       "      <td>5.0</td>\n",
       "      <td>4.0</td>\n",
       "      <td>9.0</td>\n",
       "      <td>6.0</td>\n",
       "      <td>9.0</td>\n",
       "      <td>5.0</td>\n",
       "      <td>15.0</td>\n",
       "      <td>15.0</td>\n",
       "      <td>15</td>\n",
       "      <td>15</td>\n",
       "    </tr>\n",
       "    <tr>\n",
       "      <th>21474</th>\n",
       "      <td>ZWE</td>\n",
       "      <td>181</td>\n",
       "      <td>Zimbabwe</td>\n",
       "      <td>2960</td>\n",
       "      <td>Fish, Seafood</td>\n",
       "      <td>5142</td>\n",
       "      <td>Food</td>\n",
       "      <td>1000 tonnes</td>\n",
       "      <td>-19.02</td>\n",
       "      <td>29.15</td>\n",
       "      <td>...</td>\n",
       "      <td>18.0</td>\n",
       "      <td>14.0</td>\n",
       "      <td>17.0</td>\n",
       "      <td>14.0</td>\n",
       "      <td>15.0</td>\n",
       "      <td>18.0</td>\n",
       "      <td>29.0</td>\n",
       "      <td>40.0</td>\n",
       "      <td>40</td>\n",
       "      <td>40</td>\n",
       "    </tr>\n",
       "    <tr>\n",
       "      <th>21475</th>\n",
       "      <td>ZWE</td>\n",
       "      <td>181</td>\n",
       "      <td>Zimbabwe</td>\n",
       "      <td>2961</td>\n",
       "      <td>Aquatic Products, Other</td>\n",
       "      <td>5142</td>\n",
       "      <td>Food</td>\n",
       "      <td>1000 tonnes</td>\n",
       "      <td>-19.02</td>\n",
       "      <td>29.15</td>\n",
       "      <td>...</td>\n",
       "      <td>0.0</td>\n",
       "      <td>0.0</td>\n",
       "      <td>0.0</td>\n",
       "      <td>0.0</td>\n",
       "      <td>0.0</td>\n",
       "      <td>0.0</td>\n",
       "      <td>0.0</td>\n",
       "      <td>0.0</td>\n",
       "      <td>0</td>\n",
       "      <td>0</td>\n",
       "    </tr>\n",
       "    <tr>\n",
       "      <th>21476</th>\n",
       "      <td>ZWE</td>\n",
       "      <td>181</td>\n",
       "      <td>Zimbabwe</td>\n",
       "      <td>2928</td>\n",
       "      <td>Miscellaneous</td>\n",
       "      <td>5142</td>\n",
       "      <td>Food</td>\n",
       "      <td>1000 tonnes</td>\n",
       "      <td>-19.02</td>\n",
       "      <td>29.15</td>\n",
       "      <td>...</td>\n",
       "      <td>0.0</td>\n",
       "      <td>0.0</td>\n",
       "      <td>0.0</td>\n",
       "      <td>0.0</td>\n",
       "      <td>0.0</td>\n",
       "      <td>0.0</td>\n",
       "      <td>0.0</td>\n",
       "      <td>0.0</td>\n",
       "      <td>0</td>\n",
       "      <td>0</td>\n",
       "    </tr>\n",
       "  </tbody>\n",
       "</table>\n",
       "<p>21477 rows × 63 columns</p>\n",
       "</div>"
      ],
      "text/plain": [
       "      Area Abbreviation  Area Code         Area  Item Code  \\\n",
       "0                   AFG          2  Afghanistan       2511   \n",
       "1                   AFG          2  Afghanistan       2805   \n",
       "2                   AFG          2  Afghanistan       2513   \n",
       "3                   AFG          2  Afghanistan       2513   \n",
       "4                   AFG          2  Afghanistan       2514   \n",
       "...                 ...        ...          ...        ...   \n",
       "21472               ZWE        181     Zimbabwe       2948   \n",
       "21473               ZWE        181     Zimbabwe       2960   \n",
       "21474               ZWE        181     Zimbabwe       2960   \n",
       "21475               ZWE        181     Zimbabwe       2961   \n",
       "21476               ZWE        181     Zimbabwe       2928   \n",
       "\n",
       "                           Item  Element Code Element         Unit  latitude  \\\n",
       "0            Wheat and products          5142    Food  1000 tonnes     33.94   \n",
       "1      Rice (Milled Equivalent)          5142    Food  1000 tonnes     33.94   \n",
       "2           Barley and products          5521    Feed  1000 tonnes     33.94   \n",
       "3           Barley and products          5142    Food  1000 tonnes     33.94   \n",
       "4            Maize and products          5521    Feed  1000 tonnes     33.94   \n",
       "...                         ...           ...     ...          ...       ...   \n",
       "21472   Milk - Excluding Butter          5142    Food  1000 tonnes    -19.02   \n",
       "21473             Fish, Seafood          5521    Feed  1000 tonnes    -19.02   \n",
       "21474             Fish, Seafood          5142    Food  1000 tonnes    -19.02   \n",
       "21475   Aquatic Products, Other          5142    Food  1000 tonnes    -19.02   \n",
       "21476             Miscellaneous          5142    Food  1000 tonnes    -19.02   \n",
       "\n",
       "       longitude  ...   Y2004   Y2005   Y2006   Y2007   Y2008   Y2009   Y2010  \\\n",
       "0          67.71  ...  3249.0  3486.0  3704.0  4164.0  4252.0  4538.0  4605.0   \n",
       "1          67.71  ...   419.0   445.0   546.0   455.0   490.0   415.0   442.0   \n",
       "2          67.71  ...    58.0   236.0   262.0   263.0   230.0   379.0   315.0   \n",
       "3          67.71  ...   185.0    43.0    44.0    48.0    62.0    55.0    60.0   \n",
       "4          67.71  ...   120.0   208.0   233.0   249.0   247.0   195.0   178.0   \n",
       "...          ...  ...     ...     ...     ...     ...     ...     ...     ...   \n",
       "21472      29.15  ...   373.0   357.0   359.0   356.0   341.0   385.0   418.0   \n",
       "21473      29.15  ...     5.0     4.0     9.0     6.0     9.0     5.0    15.0   \n",
       "21474      29.15  ...    18.0    14.0    17.0    14.0    15.0    18.0    29.0   \n",
       "21475      29.15  ...     0.0     0.0     0.0     0.0     0.0     0.0     0.0   \n",
       "21476      29.15  ...     0.0     0.0     0.0     0.0     0.0     0.0     0.0   \n",
       "\n",
       "        Y2011  Y2012  Y2013  \n",
       "0      4711.0   4810   4895  \n",
       "1       476.0    425    422  \n",
       "2       203.0    367    360  \n",
       "3        72.0     78     89  \n",
       "4       191.0    200    200  \n",
       "...       ...    ...    ...  \n",
       "21472   457.0    426    451  \n",
       "21473    15.0     15     15  \n",
       "21474    40.0     40     40  \n",
       "21475     0.0      0      0  \n",
       "21476     0.0      0      0  \n",
       "\n",
       "[21477 rows x 63 columns]"
      ]
     },
     "execution_count": 4,
     "metadata": {},
     "output_type": "execute_result"
    }
   ],
   "source": [
    "df_productions"
   ]
  },
  {
   "cell_type": "code",
   "execution_count": 5,
   "metadata": {},
   "outputs": [
    {
     "data": {
      "text/plain": [
       "Food product                                                 object\n",
       "Land use change                                             float64\n",
       "Animal Feed                                                 float64\n",
       "Farm                                                        float64\n",
       "Processing                                                  float64\n",
       "Transport                                                   float64\n",
       "Packging                                                    float64\n",
       "Retail                                                      float64\n",
       "Total_emissions                                             float64\n",
       "Eutrophying emissions per 1000kcal (gPO₄eq per 1000kcal)    float64\n",
       "dtype: object"
      ]
     },
     "execution_count": 5,
     "metadata": {},
     "output_type": "execute_result"
    }
   ],
   "source": [
    "df_impact.dtypes.head(10)"
   ]
  },
  {
   "cell_type": "code",
   "execution_count": 6,
   "metadata": {
    "scrolled": true
   },
   "outputs": [
    {
     "data": {
      "text/plain": [
       "Area Abbreviation     object\n",
       "Area Code              int64\n",
       "Area                  object\n",
       "Item Code              int64\n",
       "Item                  object\n",
       "Element Code           int64\n",
       "Element               object\n",
       "Unit                  object\n",
       "latitude             float64\n",
       "longitude            float64\n",
       "dtype: object"
      ]
     },
     "execution_count": 6,
     "metadata": {},
     "output_type": "execute_result"
    }
   ],
   "source": [
    "df_productions.dtypes.head(10)"
   ]
  },
  {
   "cell_type": "markdown",
   "metadata": {},
   "source": [
    "#### Abbiamo deciso di concentrarci su Emissioni Totale, Consumo di Acqua e Utilizzo della superficie "
   ]
  },
  {
   "cell_type": "code",
   "execution_count": 7,
   "metadata": {},
   "outputs": [],
   "source": [
    "df_impact_2 = df_impact[[\"Food product\",\"Total_emissions\",\"Freshwater withdrawals per kilogram (liters per kilogram)\",\"Land use per kilogram (m² per kilogram)\"]]"
   ]
  },
  {
   "cell_type": "markdown",
   "metadata": {},
   "source": [
    "#### Estraiamo la lista dei cibi prodotti in tutti i Paesi"
   ]
  },
  {
   "cell_type": "code",
   "execution_count": 8,
   "metadata": {
    "scrolled": true
   },
   "outputs": [],
   "source": [
    "food_list = df_productions[\"Item\"].unique().tolist()\n",
    "food_list = sorted(food_list)"
   ]
  },
  {
   "cell_type": "markdown",
   "metadata": {},
   "source": [
    "#### I primi 10 Paesi per produzione di cibo nel 2013"
   ]
  },
  {
   "cell_type": "code",
   "execution_count": 9,
   "metadata": {},
   "outputs": [
    {
     "data": {
      "image/png": "[encoded data removed]",
      "text/plain": [
       "<Figure size 720x504 with 1 Axes>"
      ]
     },
     "metadata": {
      "needs_background": "light"
     },
     "output_type": "display_data"
    }
   ],
   "source": [
    "top10_producers_food = df_productions[df_productions[\"Element\"]== \"Food\"].groupby(\"Area\")[\"Y2013\"].sum().reset_index().sort_values(\"Y2013\",ascending=False)[:10]\n",
    "top10_producers_food.rename(columns = {\"Y2013\":\"Food production in Tons\"}, inplace = True)\n",
    "plt.figure(figsize=(10,7))\n",
    "sns.barplot(x=\"Area\",y=\"Food production in Tons\",data=top10_producers_food)\n",
    "plt.xticks(rotation=45)\n",
    "plt.title('2013 Food Productions',color = 'blue',fontsize=15);"
   ]
  },
  {
   "cell_type": "markdown",
   "metadata": {},
   "source": [
    "#### I primi 10 Paesi per produzione di mangimi nel 2013"
   ]
  },
  {
   "cell_type": "code",
   "execution_count": 10,
   "metadata": {},
   "outputs": [
    {
     "data": {
      "image/png": "[encoded data removed]",
      "text/plain": [
       "<Figure size 720x504 with 1 Axes>"
      ]
     },
     "metadata": {
      "needs_background": "light"
     },
     "output_type": "display_data"
    }
   ],
   "source": [
    "top10_producers_feed = df_productions[df_productions[\"Element\"]== \"Feed\"].groupby(\"Area\")[\"Y2013\"].sum().reset_index().sort_values(\"Y2013\",ascending=False)[:10]\n",
    "top10_producers_feed.rename(columns = {\"Y2013\":\"Feed production in Tons\"}, inplace = True)\n",
    "plt.figure(figsize=(10,7))\n",
    "sns.barplot(x=\"Area\",y=\"Feed production in Tons\",data=top10_producers_feed)\n",
    "plt.xticks(rotation=45)\n",
    "plt.title('2013 Feed Productions',color = 'blue',fontsize=15);"
   ]
  },
  {
   "cell_type": "markdown",
   "metadata": {},
   "source": [
    "#### Abbiamo uniformato gli alimenti per poterli confrontare tra i due dataset"
   ]
  },
  {
   "cell_type": "code",
   "execution_count": 11,
   "metadata": {},
   "outputs": [
    {
     "name": "stderr",
     "output_type": "stream",
     "text": [
      "/var/folders/31/qcs22hcn6wl14syxlxyk6w940000gn/T/ipykernel_68507/56065108.py:1: FutureWarning: The frame.append method is deprecated and will be removed from pandas in a future version. Use pandas.concat instead.\n",
      "  df_impact_2 = df_impact_2.append({'Food product':'Bovine Meat', 'Total_emissions': 80.7 , 'Freshwater withdrawals per kilogram (liters per kilogram)': 4165.5, \"Land use per kilogram (m² per kilogram)\":369.34}, ignore_index=True)\n",
      "/var/folders/31/qcs22hcn6wl14syxlxyk6w940000gn/T/ipykernel_68507/56065108.py:2: FutureWarning: The frame.append method is deprecated and will be removed from pandas in a future version. Use pandas.concat instead.\n",
      "  df_impact_2 = df_impact_2.append({'Food product':'Milk - Excluding Butter','Total_emissions':24,'Freshwater withdrawals per kilogram (liters per kilogram)':6233.4, \"Land use per kilogram (m² per kilogram)\":96.74}, ignore_index=True)\n"
     ]
    }
   ],
   "source": [
    "df_impact_2 = df_impact_2.append({'Food product':'Bovine Meat', 'Total_emissions': 80.7 , 'Freshwater withdrawals per kilogram (liters per kilogram)': 4165.5, \"Land use per kilogram (m² per kilogram)\":369.34}, ignore_index=True)\n",
    "df_impact_2 = df_impact_2.append({'Food product':'Milk - Excluding Butter','Total_emissions':24,'Freshwater withdrawals per kilogram (liters per kilogram)':6233.4, \"Land use per kilogram (m² per kilogram)\":96.74}, ignore_index=True)\n",
    "df_impact_2 = df_impact_2[(df_impact_2[\"Food product\"] != \"Beef (beef herd)\" ) & (df_impact_2[\"Food product\"] != \"Beef (dairy herd)\") & (df_impact_2[\"Food product\"] != \"Cheese\") & (df_impact_2[\"Food product\"] != \"Milk\") ]\n",
    "df_impact_2['Freshwater withdrawals per kilogram (liters per kilogram)'] = df_impact_2['Freshwater withdrawals per kilogram (liters per kilogram)']*1000\n",
    "df_impact_2[\"Land use per kilogram (m² per kilogram)\"] = df_impact_2[\"Land use per kilogram (m² per kilogram)\"]*0.1\n",
    "df_impact_2.rename(columns = {'Freshwater withdrawals per kilogram (liters per kilogram)':'Freshwater withdrawals per ton (liters per ton)', 'Land use per kilogram (m² per kilogram)':'Land use per ton (ettari per ton)'}, inplace = True)"
   ]
  },
  {
   "cell_type": "code",
   "execution_count": 12,
   "metadata": {},
   "outputs": [],
   "source": [
    "df_impact_2 = df_impact_2.drop_duplicates(\"Food product\",keep=\"first\")"
   ]
  },
  {
   "cell_type": "markdown",
   "metadata": {},
   "source": [
    "#### Grafichiamo i primi 10 alimenti per emissione di CO2"
   ]
  },
  {
   "cell_type": "code",
   "execution_count": 13,
   "metadata": {
    "scrolled": true
   },
   "outputs": [],
   "source": [
    "df_impact_emissions = df_impact_2.sort_values(\"Total_emissions\",ascending=False).iloc[:10]"
   ]
  },
  {
   "cell_type": "code",
   "execution_count": 14,
   "metadata": {},
   "outputs": [
    {
     "data": {
      "image/png": "[encoded data removed]",
      "text/plain": [
       "<Figure size 720x504 with 1 Axes>"
      ]
     },
     "metadata": {
      "needs_background": "light"
     },
     "output_type": "display_data"
    }
   ],
   "source": [
    "plt.figure(figsize=(10,7))\n",
    "sns.barplot(x=\"Food product\",y=\"Total_emissions\",data=df_impact_emissions)\n",
    "plt.xticks(rotation=45)\n",
    "plt.title('CO2 Emissions',color = 'blue',fontsize=15);"
   ]
  },
  {
   "cell_type": "markdown",
   "metadata": {},
   "source": [
    "#### Grafichiamo i primi 10 alimenti per emissione di Consumo di Acqua"
   ]
  },
  {
   "cell_type": "code",
   "execution_count": 15,
   "metadata": {},
   "outputs": [],
   "source": [
    "df_impact_water = df_impact_2.sort_values('Freshwater withdrawals per ton (liters per ton)',ascending=False).iloc[:10]"
   ]
  },
  {
   "cell_type": "code",
   "execution_count": 16,
   "metadata": {},
   "outputs": [
    {
     "data": {
      "image/png": "[encoded data removed]",
      "text/plain": [
       "<Figure size 720x504 with 1 Axes>"
      ]
     },
     "metadata": {
      "needs_background": "light"
     },
     "output_type": "display_data"
    }
   ],
   "source": [
    "plt.figure(figsize=(10,7))\n",
    "sns.barplot(x=\"Food product\",y=\"Freshwater withdrawals per ton (liters per ton)\",data=df_impact_water)\n",
    "plt.xticks(rotation=45)\n",
    "plt.title('Freshwater Usage',color = 'blue',fontsize=15);"
   ]
  },
  {
   "cell_type": "markdown",
   "metadata": {},
   "source": [
    "#### Grafichiamo i primi 10 alimenti per emissione di Utilizzo della Superficie"
   ]
  },
  {
   "cell_type": "code",
   "execution_count": 17,
   "metadata": {},
   "outputs": [],
   "source": [
    "df_impact_land = df_impact_2.sort_values('Land use per ton (ettari per ton)',ascending=False).iloc[:10]"
   ]
  },
  {
   "cell_type": "code",
   "execution_count": 18,
   "metadata": {},
   "outputs": [
    {
     "data": {
      "image/png": "[encoded data removed]",
      "text/plain": [
       "<Figure size 720x504 with 1 Axes>"
      ]
     },
     "metadata": {
      "needs_background": "light"
     },
     "output_type": "display_data"
    }
   ],
   "source": [
    "plt.figure(figsize=(10,7))\n",
    "sns.barplot(x=\"Food product\",y=\"Land use per ton (ettari per ton)\",data=df_impact_land)\n",
    "plt.xticks(rotation=45)\n",
    "plt.title('Land Usage',color = 'blue',fontsize=15);"
   ]
  },
  {
   "cell_type": "markdown",
   "metadata": {},
   "source": [
    "### Creiamo il dizionario per sostituire i campi che abbiamo selezionato come più impattanti"
   ]
  },
  {
   "cell_type": "code",
   "execution_count": 19,
   "metadata": {},
   "outputs": [],
   "source": [
    "dict_df2_to_df1 = {'Bovine Meat': 'Bovine Meat',\n",
    "                  'Mutton & Goat Meat': 'Lamb & Mutton',\n",
    "                   'Milk - Excluding Butter':'Milk - Excluding Butter',\n",
    "                   'Dark Chocolate': 'Cocoa Beans and products',\n",
    "                   'Coffee':'Coffee and products',\n",
    "                   'Shrimps (farmed)':'Crustaceans',\n",
    "                   'Palm Oil':'Palm Oil',\n",
    "                   'Pig Meat':'Pigmeat',\n",
    "                   'Poultry Meat':'Poultry Meat',\n",
    "                   'Olive Oil':'Olive Oil',\n",
    "                   'Nuts':'Nuts and products',\n",
    "                   'Fish (farmed)':'Fish, Seafood',\n",
    "                   'Rice':'Rice (Milled Equivalent)',\n",
    "                   'Groundnuts':'Groundnuts (Shelled Eq)',\n",
    "                   'Sunflower Oil':'Sunflowerseed Oil'\n",
    "                  }"
   ]
  },
  {
   "cell_type": "markdown",
   "metadata": {},
   "source": [
    "### usiamo un ciclo for per sostituire nel dataframe impact i valori"
   ]
  },
  {
   "cell_type": "code",
   "execution_count": 20,
   "metadata": {},
   "outputs": [],
   "source": [
    "df_1_list = dict_df2_to_df1.values()\n",
    "df_2_list = dict_df2_to_df1.keys()\n",
    "\n",
    "for key, value in dict_df2_to_df1.items():\n",
    "    if key in df_2_list:\n",
    "        df_impact_2['Food product'] = df_impact_2['Food product'].replace(key, value)   "
   ]
  },
  {
   "cell_type": "code",
   "execution_count": 21,
   "metadata": {},
   "outputs": [
    {
     "data": {
      "text/html": [
       "<div>\n",
       "<style scoped>\n",
       "    .dataframe tbody tr th:only-of-type {\n",
       "        vertical-align: middle;\n",
       "    }\n",
       "\n",
       "    .dataframe tbody tr th {\n",
       "        vertical-align: top;\n",
       "    }\n",
       "\n",
       "    .dataframe thead th {\n",
       "        text-align: right;\n",
       "    }\n",
       "</style>\n",
       "<table border=\"1\" class=\"dataframe\">\n",
       "  <thead>\n",
       "    <tr style=\"text-align: right;\">\n",
       "      <th></th>\n",
       "      <th>Food product</th>\n",
       "      <th>Total_emissions</th>\n",
       "      <th>Freshwater withdrawals per ton (liters per ton)</th>\n",
       "      <th>Land use per ton (ettari per ton)</th>\n",
       "    </tr>\n",
       "  </thead>\n",
       "  <tbody>\n",
       "    <tr>\n",
       "      <th>27</th>\n",
       "      <td>Apples</td>\n",
       "      <td>0.3</td>\n",
       "      <td>180100.0</td>\n",
       "      <td>0.063</td>\n",
       "    </tr>\n",
       "    <tr>\n",
       "      <th>26</th>\n",
       "      <td>Bananas</td>\n",
       "      <td>0.8</td>\n",
       "      <td>114500.0</td>\n",
       "      <td>0.193</td>\n",
       "    </tr>\n",
       "    <tr>\n",
       "      <th>2</th>\n",
       "      <td>Barley (Beer)</td>\n",
       "      <td>1.1</td>\n",
       "      <td>NaN</td>\n",
       "      <td>NaN</td>\n",
       "    </tr>\n",
       "    <tr>\n",
       "      <th>8</th>\n",
       "      <td>Beet Sugar</td>\n",
       "      <td>1.4</td>\n",
       "      <td>217700.0</td>\n",
       "      <td>0.183</td>\n",
       "    </tr>\n",
       "    <tr>\n",
       "      <th>28</th>\n",
       "      <td>Berries &amp; Grapes</td>\n",
       "      <td>1.1</td>\n",
       "      <td>419600.0</td>\n",
       "      <td>0.241</td>\n",
       "    </tr>\n",
       "    <tr>\n",
       "      <th>43</th>\n",
       "      <td>Bovine Meat</td>\n",
       "      <td>80.7</td>\n",
       "      <td>4165500.0</td>\n",
       "      <td>36.934</td>\n",
       "    </tr>\n",
       "    <tr>\n",
       "      <th>23</th>\n",
       "      <td>Brassicas</td>\n",
       "      <td>0.4</td>\n",
       "      <td>119400.0</td>\n",
       "      <td>0.055</td>\n",
       "    </tr>\n",
       "    <tr>\n",
       "      <th>7</th>\n",
       "      <td>Cane Sugar</td>\n",
       "      <td>2.6</td>\n",
       "      <td>620100.0</td>\n",
       "      <td>0.204</td>\n",
       "    </tr>\n",
       "    <tr>\n",
       "      <th>6</th>\n",
       "      <td>Cassava</td>\n",
       "      <td>0.9</td>\n",
       "      <td>0.0</td>\n",
       "      <td>0.181</td>\n",
       "    </tr>\n",
       "    <tr>\n",
       "      <th>25</th>\n",
       "      <td>Citrus Fruit</td>\n",
       "      <td>0.3</td>\n",
       "      <td>82700.0</td>\n",
       "      <td>0.086</td>\n",
       "    </tr>\n",
       "  </tbody>\n",
       "</table>\n",
       "</div>"
      ],
      "text/plain": [
       "        Food product  Total_emissions  \\\n",
       "27            Apples              0.3   \n",
       "26           Bananas              0.8   \n",
       "2      Barley (Beer)              1.1   \n",
       "8         Beet Sugar              1.4   \n",
       "28  Berries & Grapes              1.1   \n",
       "43       Bovine Meat             80.7   \n",
       "23         Brassicas              0.4   \n",
       "7         Cane Sugar              2.6   \n",
       "6            Cassava              0.9   \n",
       "25      Citrus Fruit              0.3   \n",
       "\n",
       "    Freshwater withdrawals per ton (liters per ton)  \\\n",
       "27                                         180100.0   \n",
       "26                                         114500.0   \n",
       "2                                               NaN   \n",
       "8                                          217700.0   \n",
       "28                                         419600.0   \n",
       "43                                        4165500.0   \n",
       "23                                         119400.0   \n",
       "7                                          620100.0   \n",
       "6                                               0.0   \n",
       "25                                          82700.0   \n",
       "\n",
       "    Land use per ton (ettari per ton)  \n",
       "27                              0.063  \n",
       "26                              0.193  \n",
       "2                                 NaN  \n",
       "8                               0.183  \n",
       "28                              0.241  \n",
       "43                             36.934  \n",
       "23                              0.055  \n",
       "7                               0.204  \n",
       "6                               0.181  \n",
       "25                              0.086  "
      ]
     },
     "execution_count": 21,
     "metadata": {},
     "output_type": "execute_result"
    }
   ],
   "source": [
    "df_impact_2.sort_values('Food product').head(10)"
   ]
  },
  {
   "cell_type": "markdown",
   "metadata": {},
   "source": [
    "### Droppiamo da df_impact_2 le righe che non ci interessano più con un ciclo"
   ]
  },
  {
   "cell_type": "code",
   "execution_count": 22,
   "metadata": {},
   "outputs": [],
   "source": [
    "list_all = list(df_impact_2['Food product'])"
   ]
  },
  {
   "cell_type": "code",
   "execution_count": 23,
   "metadata": {},
   "outputs": [],
   "source": [
    "for item in list_all:\n",
    "    if item not in df_1_list:\n",
    "        df_impact_2 = df_impact_2.drop(df_impact_2[df_impact_2['Food product'] == item].index)     "
   ]
  },
  {
   "cell_type": "code",
   "execution_count": 24,
   "metadata": {},
   "outputs": [
    {
     "data": {
      "text/html": [
       "<div>\n",
       "<style scoped>\n",
       "    .dataframe tbody tr th:only-of-type {\n",
       "        vertical-align: middle;\n",
       "    }\n",
       "\n",
       "    .dataframe tbody tr th {\n",
       "        vertical-align: top;\n",
       "    }\n",
       "\n",
       "    .dataframe thead th {\n",
       "        text-align: right;\n",
       "    }\n",
       "</style>\n",
       "<table border=\"1\" class=\"dataframe\">\n",
       "  <thead>\n",
       "    <tr style=\"text-align: right;\">\n",
       "      <th></th>\n",
       "      <th>Food product</th>\n",
       "      <th>Total_emissions</th>\n",
       "      <th>Freshwater withdrawals per ton (liters per ton)</th>\n",
       "      <th>Land use per ton (ettari per ton)</th>\n",
       "    </tr>\n",
       "  </thead>\n",
       "  <tbody>\n",
       "    <tr>\n",
       "      <th>4</th>\n",
       "      <td>Rice (Milled Equivalent)</td>\n",
       "      <td>4.0</td>\n",
       "      <td>2248400.0</td>\n",
       "      <td>0.280</td>\n",
       "    </tr>\n",
       "    <tr>\n",
       "      <th>11</th>\n",
       "      <td>Nuts and products</td>\n",
       "      <td>0.2</td>\n",
       "      <td>4133800.0</td>\n",
       "      <td>1.296</td>\n",
       "    </tr>\n",
       "    <tr>\n",
       "      <th>12</th>\n",
       "      <td>Groundnuts (Shelled Eq)</td>\n",
       "      <td>2.4</td>\n",
       "      <td>1852300.0</td>\n",
       "      <td>0.911</td>\n",
       "    </tr>\n",
       "    <tr>\n",
       "      <th>16</th>\n",
       "      <td>Palm Oil</td>\n",
       "      <td>7.6</td>\n",
       "      <td>6400.0</td>\n",
       "      <td>0.242</td>\n",
       "    </tr>\n",
       "    <tr>\n",
       "      <th>17</th>\n",
       "      <td>Sunflowerseed Oil</td>\n",
       "      <td>3.5</td>\n",
       "      <td>1007900.0</td>\n",
       "      <td>1.766</td>\n",
       "    </tr>\n",
       "    <tr>\n",
       "      <th>19</th>\n",
       "      <td>Olive Oil</td>\n",
       "      <td>6.0</td>\n",
       "      <td>2141800.0</td>\n",
       "      <td>2.631</td>\n",
       "    </tr>\n",
       "    <tr>\n",
       "      <th>31</th>\n",
       "      <td>Coffee and products</td>\n",
       "      <td>16.5</td>\n",
       "      <td>25900.0</td>\n",
       "      <td>2.162</td>\n",
       "    </tr>\n",
       "    <tr>\n",
       "      <th>32</th>\n",
       "      <td>Cocoa Beans and products</td>\n",
       "      <td>18.7</td>\n",
       "      <td>540600.0</td>\n",
       "      <td>6.896</td>\n",
       "    </tr>\n",
       "    <tr>\n",
       "      <th>35</th>\n",
       "      <td>Lamb &amp; Mutton</td>\n",
       "      <td>24.5</td>\n",
       "      <td>1802800.0</td>\n",
       "      <td>36.981</td>\n",
       "    </tr>\n",
       "    <tr>\n",
       "      <th>36</th>\n",
       "      <td>Pigmeat</td>\n",
       "      <td>7.2</td>\n",
       "      <td>1795800.0</td>\n",
       "      <td>1.736</td>\n",
       "    </tr>\n",
       "    <tr>\n",
       "      <th>37</th>\n",
       "      <td>Poultry Meat</td>\n",
       "      <td>6.1</td>\n",
       "      <td>660000.0</td>\n",
       "      <td>1.222</td>\n",
       "    </tr>\n",
       "    <tr>\n",
       "      <th>41</th>\n",
       "      <td>Fish, Seafood</td>\n",
       "      <td>5.1</td>\n",
       "      <td>3691300.0</td>\n",
       "      <td>0.841</td>\n",
       "    </tr>\n",
       "    <tr>\n",
       "      <th>42</th>\n",
       "      <td>Crustaceans</td>\n",
       "      <td>11.8</td>\n",
       "      <td>NaN</td>\n",
       "      <td>NaN</td>\n",
       "    </tr>\n",
       "    <tr>\n",
       "      <th>43</th>\n",
       "      <td>Bovine Meat</td>\n",
       "      <td>80.7</td>\n",
       "      <td>4165500.0</td>\n",
       "      <td>36.934</td>\n",
       "    </tr>\n",
       "    <tr>\n",
       "      <th>44</th>\n",
       "      <td>Milk - Excluding Butter</td>\n",
       "      <td>24.0</td>\n",
       "      <td>6233400.0</td>\n",
       "      <td>9.674</td>\n",
       "    </tr>\n",
       "  </tbody>\n",
       "</table>\n",
       "</div>"
      ],
      "text/plain": [
       "                Food product  Total_emissions  \\\n",
       "4   Rice (Milled Equivalent)              4.0   \n",
       "11         Nuts and products              0.2   \n",
       "12   Groundnuts (Shelled Eq)              2.4   \n",
       "16                  Palm Oil              7.6   \n",
       "17         Sunflowerseed Oil              3.5   \n",
       "19                 Olive Oil              6.0   \n",
       "31       Coffee and products             16.5   \n",
       "32  Cocoa Beans and products             18.7   \n",
       "35             Lamb & Mutton             24.5   \n",
       "36                   Pigmeat              7.2   \n",
       "37              Poultry Meat              6.1   \n",
       "41             Fish, Seafood              5.1   \n",
       "42               Crustaceans             11.8   \n",
       "43               Bovine Meat             80.7   \n",
       "44   Milk - Excluding Butter             24.0   \n",
       "\n",
       "    Freshwater withdrawals per ton (liters per ton)  \\\n",
       "4                                         2248400.0   \n",
       "11                                        4133800.0   \n",
       "12                                        1852300.0   \n",
       "16                                           6400.0   \n",
       "17                                        1007900.0   \n",
       "19                                        2141800.0   \n",
       "31                                          25900.0   \n",
       "32                                         540600.0   \n",
       "35                                        1802800.0   \n",
       "36                                        1795800.0   \n",
       "37                                         660000.0   \n",
       "41                                        3691300.0   \n",
       "42                                              NaN   \n",
       "43                                        4165500.0   \n",
       "44                                        6233400.0   \n",
       "\n",
       "    Land use per ton (ettari per ton)  \n",
       "4                               0.280  \n",
       "11                              1.296  \n",
       "12                              0.911  \n",
       "16                              0.242  \n",
       "17                              1.766  \n",
       "19                              2.631  \n",
       "31                              2.162  \n",
       "32                              6.896  \n",
       "35                             36.981  \n",
       "36                              1.736  \n",
       "37                              1.222  \n",
       "41                              0.841  \n",
       "42                                NaN  \n",
       "43                             36.934  \n",
       "44                              9.674  "
      ]
     },
     "execution_count": 24,
     "metadata": {},
     "output_type": "execute_result"
    }
   ],
   "source": [
    "df_impact_2"
   ]
  },
  {
   "cell_type": "markdown",
   "metadata": {},
   "source": [
    "### Uniamo i due dataset"
   ]
  },
  {
   "cell_type": "markdown",
   "metadata": {},
   "source": [
    "Sostituiamo i null con 0 e uniamo i dataset per Food"
   ]
  },
  {
   "cell_type": "code",
   "execution_count": 25,
   "metadata": {},
   "outputs": [],
   "source": [
    "df_impact_4 = df_impact_2.fillna(0)\n",
    "df_merged = df_productions.merge(df_impact_4, left_on=\"Item\", right_on=\"Food product\")"
   ]
  },
  {
   "cell_type": "markdown",
   "metadata": {},
   "source": [
    "## Elimiamo le colonne poco rilevanti"
   ]
  },
  {
   "cell_type": "code",
   "execution_count": 26,
   "metadata": {},
   "outputs": [],
   "source": [
    "df_merged_2 = df_merged.drop(['Area Abbreviation',\"Area Code\",\"Item Code\",\"Element Code\",\"Unit\"], axis=1)"
   ]
  },
  {
   "cell_type": "markdown",
   "metadata": {},
   "source": [
    "## Aggiungiamo le colonne decadi raggruppando gli anni"
   ]
  },
  {
   "cell_type": "code",
   "execution_count": 27,
   "metadata": {},
   "outputs": [],
   "source": [
    "df_merged_2[\"1961-1970\"] = df_merged_2.iloc[:,5:15].sum(axis=1)\n",
    "df_merged_2[\"1971-1980\"] = df_merged_2.iloc[:,15:25].sum(axis=1)\n",
    "df_merged_2[\"1981-1990\"] = df_merged_2.iloc[:,25:35].sum(axis=1)\n",
    "df_merged_2[\"1991-2000\"] = df_merged_2.iloc[:,35:45].sum(axis=1)\n",
    "df_merged_2[\"2001-2010\"] = df_merged_2.iloc[:,45:55].sum(axis=1)"
   ]
  },
  {
   "cell_type": "markdown",
   "metadata": {},
   "source": [
    "## Elimiamo le colonne dei singoli anni"
   ]
  },
  {
   "cell_type": "code",
   "execution_count": 28,
   "metadata": {},
   "outputs": [
    {
     "name": "stderr",
     "output_type": "stream",
     "text": [
      "/Users/alessandroguidi/opt/anaconda3/lib/python3.9/site-packages/pandas/core/indexes/base.py:5055: FutureWarning: Using a non-tuple sequence for multidimensional indexing is deprecated; use `arr[tuple(seq)]` instead of `arr[seq]`. In the future this will be interpreted as an array index, `arr[np.array(seq)]`, which will result either in an error or a different result.\n",
      "  result = getitem(key)\n"
     ]
    }
   ],
   "source": [
    "df_merged_3 = df_merged_2.drop(df_merged_2.columns[[range(5,58)]], axis=1)"
   ]
  },
  {
   "cell_type": "markdown",
   "metadata": {},
   "source": [
    "## Sommiamo \"Feed\" & \"Food\""
   ]
  },
  {
   "cell_type": "code",
   "execution_count": 29,
   "metadata": {},
   "outputs": [
    {
     "name": "stderr",
     "output_type": "stream",
     "text": [
      "/var/folders/31/qcs22hcn6wl14syxlxyk6w940000gn/T/ipykernel_68507/738506223.py:1: FutureWarning: Indexing with multiple keys (implicitly converted to a tuple of keys) will be deprecated, use a list instead.\n",
      "  df_merged_4 = df_merged_3.groupby([\"Area\",\"Item\",\"latitude\",\"longitude\"])[\"Total_emissions\",\"Freshwater withdrawals per ton (liters per ton)\",\"Land use per ton (ettari per ton)\",\"1961-1970\",\"1971-1980\",\"1981-1990\",\"1991-2000\",\"2001-2010\"].sum().reset_index()\n"
     ]
    }
   ],
   "source": [
    "df_merged_4 = df_merged_3.groupby([\"Area\",\"Item\",\"latitude\",\"longitude\"])[\"Total_emissions\",\"Freshwater withdrawals per ton (liters per ton)\",\"Land use per ton (ettari per ton)\",\"1961-1970\",\"1971-1980\",\"1981-1990\",\"1991-2000\",\"2001-2010\"].sum().reset_index()"
   ]
  },
  {
   "cell_type": "markdown",
   "metadata": {},
   "source": [
    "## Creiamo delle colonne di emissioni di CO2 per decade"
   ]
  },
  {
   "cell_type": "code",
   "execution_count": 30,
   "metadata": {},
   "outputs": [
    {
     "data": {
      "text/html": [
       "<div>\n",
       "<style scoped>\n",
       "    .dataframe tbody tr th:only-of-type {\n",
       "        vertical-align: middle;\n",
       "    }\n",
       "\n",
       "    .dataframe tbody tr th {\n",
       "        vertical-align: top;\n",
       "    }\n",
       "\n",
       "    .dataframe thead th {\n",
       "        text-align: right;\n",
       "    }\n",
       "</style>\n",
       "<table border=\"1\" class=\"dataframe\">\n",
       "  <thead>\n",
       "    <tr style=\"text-align: right;\">\n",
       "      <th></th>\n",
       "      <th>Area</th>\n",
       "      <th>Item</th>\n",
       "      <th>latitude</th>\n",
       "      <th>longitude</th>\n",
       "      <th>Total_emissions</th>\n",
       "      <th>Freshwater withdrawals per ton (liters per ton)</th>\n",
       "      <th>Land use per ton (ettari per ton)</th>\n",
       "      <th>1961-1970</th>\n",
       "      <th>1971-1980</th>\n",
       "      <th>1981-1990</th>\n",
       "      <th>1991-2000</th>\n",
       "      <th>2001-2010</th>\n",
       "      <th>CO2 1961-1970</th>\n",
       "      <th>CO2 1971-1980</th>\n",
       "      <th>CO2 1981-1990</th>\n",
       "      <th>CO2 1991-2000</th>\n",
       "      <th>CO2 2001-2010</th>\n",
       "    </tr>\n",
       "  </thead>\n",
       "  <tbody>\n",
       "    <tr>\n",
       "      <th>0</th>\n",
       "      <td>Afghanistan</td>\n",
       "      <td>Bovine Meat</td>\n",
       "      <td>33.94</td>\n",
       "      <td>67.71</td>\n",
       "      <td>80.7</td>\n",
       "      <td>4165500.0</td>\n",
       "      <td>36.934</td>\n",
       "      <td>574.0</td>\n",
       "      <td>642.0</td>\n",
       "      <td>711.0</td>\n",
       "      <td>1258.0</td>\n",
       "      <td>1356.0</td>\n",
       "      <td>46321.8</td>\n",
       "      <td>51809.4</td>\n",
       "      <td>57377.7</td>\n",
       "      <td>101520.6</td>\n",
       "      <td>109429.2</td>\n",
       "    </tr>\n",
       "    <tr>\n",
       "      <th>1</th>\n",
       "      <td>Afghanistan</td>\n",
       "      <td>Cocoa Beans and products</td>\n",
       "      <td>33.94</td>\n",
       "      <td>67.71</td>\n",
       "      <td>18.7</td>\n",
       "      <td>540600.0</td>\n",
       "      <td>6.896</td>\n",
       "      <td>0.0</td>\n",
       "      <td>0.0</td>\n",
       "      <td>0.0</td>\n",
       "      <td>0.0</td>\n",
       "      <td>5.0</td>\n",
       "      <td>0.0</td>\n",
       "      <td>0.0</td>\n",
       "      <td>0.0</td>\n",
       "      <td>0.0</td>\n",
       "      <td>93.5</td>\n",
       "    </tr>\n",
       "    <tr>\n",
       "      <th>2</th>\n",
       "      <td>Afghanistan</td>\n",
       "      <td>Coffee and products</td>\n",
       "      <td>33.94</td>\n",
       "      <td>67.71</td>\n",
       "      <td>16.5</td>\n",
       "      <td>25900.0</td>\n",
       "      <td>2.162</td>\n",
       "      <td>0.0</td>\n",
       "      <td>0.0</td>\n",
       "      <td>0.0</td>\n",
       "      <td>0.0</td>\n",
       "      <td>1.0</td>\n",
       "      <td>0.0</td>\n",
       "      <td>0.0</td>\n",
       "      <td>0.0</td>\n",
       "      <td>0.0</td>\n",
       "      <td>16.5</td>\n",
       "    </tr>\n",
       "    <tr>\n",
       "      <th>3</th>\n",
       "      <td>Afghanistan</td>\n",
       "      <td>Fish, Seafood</td>\n",
       "      <td>33.94</td>\n",
       "      <td>67.71</td>\n",
       "      <td>5.1</td>\n",
       "      <td>3691300.0</td>\n",
       "      <td>0.841</td>\n",
       "      <td>0.0</td>\n",
       "      <td>10.0</td>\n",
       "      <td>10.0</td>\n",
       "      <td>18.0</td>\n",
       "      <td>14.0</td>\n",
       "      <td>0.0</td>\n",
       "      <td>51.0</td>\n",
       "      <td>51.0</td>\n",
       "      <td>91.8</td>\n",
       "      <td>71.4</td>\n",
       "    </tr>\n",
       "    <tr>\n",
       "      <th>4</th>\n",
       "      <td>Afghanistan</td>\n",
       "      <td>Milk - Excluding Butter</td>\n",
       "      <td>33.94</td>\n",
       "      <td>67.71</td>\n",
       "      <td>96.0</td>\n",
       "      <td>24933600.0</td>\n",
       "      <td>38.696</td>\n",
       "      <td>14074.0</td>\n",
       "      <td>15564.0</td>\n",
       "      <td>14310.0</td>\n",
       "      <td>27764.0</td>\n",
       "      <td>33504.0</td>\n",
       "      <td>1351104.0</td>\n",
       "      <td>1494144.0</td>\n",
       "      <td>1373760.0</td>\n",
       "      <td>2665344.0</td>\n",
       "      <td>3216384.0</td>\n",
       "    </tr>\n",
       "  </tbody>\n",
       "</table>\n",
       "</div>"
      ],
      "text/plain": [
       "          Area                      Item  latitude  longitude  \\\n",
       "0  Afghanistan               Bovine Meat     33.94      67.71   \n",
       "1  Afghanistan  Cocoa Beans and products     33.94      67.71   \n",
       "2  Afghanistan       Coffee and products     33.94      67.71   \n",
       "3  Afghanistan             Fish, Seafood     33.94      67.71   \n",
       "4  Afghanistan   Milk - Excluding Butter     33.94      67.71   \n",
       "\n",
       "   Total_emissions  Freshwater withdrawals per ton (liters per ton)  \\\n",
       "0             80.7                                        4165500.0   \n",
       "1             18.7                                         540600.0   \n",
       "2             16.5                                          25900.0   \n",
       "3              5.1                                        3691300.0   \n",
       "4             96.0                                       24933600.0   \n",
       "\n",
       "   Land use per ton (ettari per ton)  1961-1970  1971-1980  1981-1990  \\\n",
       "0                             36.934      574.0      642.0      711.0   \n",
       "1                              6.896        0.0        0.0        0.0   \n",
       "2                              2.162        0.0        0.0        0.0   \n",
       "3                              0.841        0.0       10.0       10.0   \n",
       "4                             38.696    14074.0    15564.0    14310.0   \n",
       "\n",
       "   1991-2000  2001-2010  CO2 1961-1970  CO2 1971-1980  CO2 1981-1990  \\\n",
       "0     1258.0     1356.0        46321.8        51809.4        57377.7   \n",
       "1        0.0        5.0            0.0            0.0            0.0   \n",
       "2        0.0        1.0            0.0            0.0            0.0   \n",
       "3       18.0       14.0            0.0           51.0           51.0   \n",
       "4    27764.0    33504.0      1351104.0      1494144.0      1373760.0   \n",
       "\n",
       "   CO2 1991-2000  CO2 2001-2010  \n",
       "0       101520.6       109429.2  \n",
       "1            0.0           93.5  \n",
       "2            0.0           16.5  \n",
       "3           91.8           71.4  \n",
       "4      2665344.0      3216384.0  "
      ]
     },
     "execution_count": 30,
     "metadata": {},
     "output_type": "execute_result"
    }
   ],
   "source": [
    "df_merged_4[\"CO2 1961-1970\"]=df_merged_4[\"Total_emissions\"]*df_merged_4[\"1961-1970\"]\n",
    "df_merged_4[\"CO2 1971-1980\"]=df_merged_4[\"Total_emissions\"]*df_merged_4[\"1971-1980\"]\n",
    "df_merged_4[\"CO2 1981-1990\"]=df_merged_4[\"Total_emissions\"]*df_merged_4[\"1981-1990\"]\n",
    "df_merged_4[\"CO2 1991-2000\"]=df_merged_4[\"Total_emissions\"]*df_merged_4[\"1991-2000\"]\n",
    "df_merged_4[\"CO2 2001-2010\"]=df_merged_4[\"Total_emissions\"]*df_merged_4[\"2001-2010\"]\n",
    "df_merged_4.head()"
   ]
  },
  {
   "cell_type": "markdown",
   "metadata": {},
   "source": [
    "## Sommiamo le emissioni di co2 per Paese e suddiviamoli per decadi"
   ]
  },
  {
   "cell_type": "code",
   "execution_count": 31,
   "metadata": {
    "scrolled": true
   },
   "outputs": [],
   "source": [
    "df_co2 = df_merged_4.groupby(\"Area\")[[\"CO2 1961-1970\",\"CO2 1971-1980\",\"CO2 1981-1990\",\"CO2 1991-2000\",\"CO2 2001-2010\"]].sum().reset_index()\n",
    "df_top10_2001 = df_co2.sort_values(\"CO2 2001-2010\",ascending=False)[:9]\n",
    "df_top10_1991 = df_co2.sort_values(\"CO2 1991-2000\",ascending=False)[:9]\n",
    "df_top10_1981 = df_co2.sort_values(\"CO2 1981-1990\",ascending=False)[:9]\n",
    "df_top10_1971 = df_co2.sort_values(\"CO2 1971-1980\",ascending=False)[:9]\n",
    "df_top10_1961 = df_co2.sort_values(\"CO2 1961-1970\",ascending=False)[:9]"
   ]
  },
  {
   "cell_type": "code",
   "execution_count": 32,
   "metadata": {},
   "outputs": [],
   "source": [
    "primo = df_co2.sort_values(\"CO2 1961-1970\",ascending=False)[9:]['CO2 1961-1970'].sum()\n",
    "secondo = df_co2.sort_values(\"CO2 1971-1980\",ascending=False)[9:]['CO2 1971-1980'].sum()\n",
    "terzo = df_co2.sort_values(\"CO2 1981-1990\",ascending=False)[9:]['CO2 1981-1990'].sum()\n",
    "quarto = df_co2.sort_values(\"CO2 1991-2000\",ascending=False)[9:]['CO2 1991-2000'].sum()\n",
    "quinto= df_co2.sort_values(\"CO2 2001-2010\",ascending=False)[9:]['CO2 2001-2010'].sum()"
   ]
  },
  {
   "cell_type": "code",
   "execution_count": 33,
   "metadata": {},
   "outputs": [],
   "source": [
    "other_nations_1 = pd.DataFrame({\"Area\":\"Other Nations\",\"CO2 1961-1970\":58325505.5},index=[0])\n",
    "other_nations_2 = pd.DataFrame({\"Area\":\"Other Nations\",\"CO2 1971-1980\":71276784.6},index=[0])\n",
    "other_nations_3 = pd.DataFrame({\"Area\":\"Other Nations\",\"CO2 1981-1990\":85536964.2},index=[0])\n",
    "other_nations_4 = pd.DataFrame({\"Area\":\"Other Nations\",\"CO2 1991-2000\":125253163.3},index=[0])\n",
    "other_nations_5 = pd.DataFrame({\"Area\":\"Other Nations\",\"CO2 2001-2010\":145654327.4},index=[0])\n",
    "df_top10_1961 = pd.concat([df_top10_1961, other_nations_1], axis=0)\n",
    "df_top10_1971 = pd.concat([df_top10_1971, other_nations_2], axis=0)\n",
    "df_top10_1981 = pd.concat([df_top10_1981, other_nations_3], axis=0)\n",
    "df_top10_1991 = pd.concat([df_top10_1991, other_nations_4], axis=0)\n",
    "df_top10_2001 = pd.concat([df_top10_2001, other_nations_5], axis=0)"
   ]
  },
  {
   "cell_type": "markdown",
   "metadata": {},
   "source": [
    "## Creiamo dei grafici a torta con le 10 nazioni più inquinanti per ogni decade"
   ]
  },
  {
   "cell_type": "code",
   "execution_count": 34,
   "metadata": {},
   "outputs": [
    {
     "data": {
      "image/png": "[encoded data removed]",
      "text/plain": [
       "<Figure size 576x432 with 1 Axes>"
      ]
     },
     "metadata": {},
     "output_type": "display_data"
    }
   ],
   "source": [
    "plt.figure(figsize=(8,6))\n",
    "plt.pie(x=df_top10_1961[\"CO2 1961-1970\"], labels=df_top10_1961.Area.values, autopct = '%0.0f%%')\n",
    "plt.title(\"Esalazioni in percentuale di CO2 1961-1970\")\n",
    "plt.show()"
   ]
  },
  {
   "cell_type": "code",
   "execution_count": 35,
   "metadata": {},
   "outputs": [
    {
     "data": {
      "image/png": "[encoded data removed]",
      "text/plain": [
       "<Figure size 576x432 with 1 Axes>"
      ]
     },
     "metadata": {},
     "output_type": "display_data"
    }
   ],
   "source": [
    "plt.figure(figsize=(8,6))\n",
    "plt.pie(x=df_top10_1971[\"CO2 1971-1980\"], labels=df_top10_1971.Area.values, autopct = '%0.0f%%')\n",
    "plt.title(\"Esalazioni in percentuale di CO2 1971-1980\")\n",
    "plt.show()"
   ]
  },
  {
   "cell_type": "code",
   "execution_count": 36,
   "metadata": {},
   "outputs": [
    {
     "data": {
      "image/png": "[encoded data removed]",
      "text/plain": [
       "<Figure size 576x432 with 1 Axes>"
      ]
     },
     "metadata": {},
     "output_type": "display_data"
    }
   ],
   "source": [
    "plt.figure(figsize=(8,6))\n",
    "plt.pie(x=df_top10_1981[\"CO2 1981-1990\"], labels=df_top10_1981.Area.values, autopct = '%0.0f%%')\n",
    "plt.title(\"Esalazioni in percentuale di CO2 1981-1990\")\n",
    "plt.show()"
   ]
  },
  {
   "cell_type": "code",
   "execution_count": 37,
   "metadata": {},
   "outputs": [
    {
     "data": {
      "image/png": "[encoded data removed]",
      "text/plain": [
       "<Figure size 576x432 with 1 Axes>"
      ]
     },
     "metadata": {},
     "output_type": "display_data"
    }
   ],
   "source": [
    "plt.figure(figsize=(8,6))\n",
    "plt.pie(x=df_top10_1991[\"CO2 1991-2000\"], labels=df_top10_1991.Area.values, autopct = '%0.0f%%')\n",
    "plt.title(\"Esalazioni in percentuale di CO2 1991-2000\")\n",
    "plt.show()"
   ]
  },
  {
   "cell_type": "code",
   "execution_count": 38,
   "metadata": {
    "scrolled": true
   },
   "outputs": [
    {
     "data": {
      "image/png": "[encoded data removed]",
      "text/plain": [
       "<Figure size 576x432 with 1 Axes>"
      ]
     },
     "metadata": {},
     "output_type": "display_data"
    }
   ],
   "source": [
    "plt.figure(figsize=(8,6))\n",
    "plt.pie(x=df_top10_2001[\"CO2 2001-2010\"], labels=df_top10_2001.Area.values, autopct = '%0.0f%%')\n",
    "plt.title(\"Esalazioni in percentuale di CO2 2001-2010\")\n",
    "plt.show()"
   ]
  },
  {
   "cell_type": "markdown",
   "metadata": {},
   "source": [
    " ## Creiamo le colonne di utilizzo di acqua e terra per Paese per decade"
   ]
  },
  {
   "cell_type": "code",
   "execution_count": 39,
   "metadata": {},
   "outputs": [],
   "source": [
    "df_merged_4[\"Freshwater withdrawals 1961-1970\"]=(df_merged_4[\"Freshwater withdrawals per ton (liters per ton)\"]*1000)*df_merged_4[\"1961-1970\"]\n",
    "df_merged_4[\"Freshwater withdrawals 1971-1980\"]=(df_merged_4[\"Freshwater withdrawals per ton (liters per ton)\"]*1000)*df_merged_4[\"1971-1980\"]\n",
    "df_merged_4[\"Freshwater withdrawals 1981-1990\"]=(df_merged_4[\"Freshwater withdrawals per ton (liters per ton)\"]*1000)*df_merged_4[\"1981-1990\"]\n",
    "df_merged_4[\"Freshwater withdrawals 1991-2000\"]=(df_merged_4[\"Freshwater withdrawals per ton (liters per ton)\"]*1000)*df_merged_4[\"1991-2000\"]\n",
    "df_merged_4[\"Freshwater withdrawals 2001-2010\"]=(df_merged_4[\"Freshwater withdrawals per ton (liters per ton)\"]*1000)*df_merged_4[\"2001-2010\"]"
   ]
  },
  {
   "cell_type": "code",
   "execution_count": 40,
   "metadata": {},
   "outputs": [],
   "source": [
    "df_merged_4[\"Land use in ettari 1961-1970\"]=(df_merged_4[\"Land use per ton (ettari per ton)\"]*1000)*df_merged_4[\"1961-1970\"]\n",
    "df_merged_4[\"Land use in ettari 1971-1980\"]=(df_merged_4[\"Land use per ton (ettari per ton)\"]*1000)*df_merged_4[\"1971-1980\"]\n",
    "df_merged_4[\"Land use in ettari 1981-1990\"]=(df_merged_4[\"Land use per ton (ettari per ton)\"]*1000)*df_merged_4[\"1981-1990\"]\n",
    "df_merged_4[\"Land use in ettari 1991-2000\"]=(df_merged_4[\"Land use per ton (ettari per ton)\"]*1000)*df_merged_4[\"1991-2000\"]\n",
    "df_merged_4[\"Land use in ettari 2001-2010\"]=(df_merged_4[\"Land use per ton (ettari per ton)\"]*1000)*df_merged_4[\"2001-2010\"]"
   ]
  },
  {
   "cell_type": "markdown",
   "metadata": {},
   "source": [
    "## Raggruppiamo e ordiniamo per CO2 emessa nel 2001-2010"
   ]
  },
  {
   "cell_type": "code",
   "execution_count": 41,
   "metadata": {},
   "outputs": [],
   "source": [
    "df_total_usage = df_merged_4.groupby(\"Area\")[[\"CO2 1961-1970\",\"CO2 1971-1980\",\"CO2 1981-1990\",\"CO2 1991-2000\",\"CO2 2001-2010\",\"Freshwater withdrawals 1961-1970\",\"Freshwater withdrawals 1971-1980\",\"Freshwater withdrawals 1981-1990\",\"Freshwater withdrawals 1991-2000\",\"Freshwater withdrawals 2001-2010\",\"Land use in ettari 1961-1970\",\"Land use in ettari 1971-1980\",\"Land use in ettari 1981-1990\",\"Land use in ettari 1991-2000\",\"Land use in ettari 2001-2010\"]].sum().reset_index()\n",
    "df_total_usage = df_total_usage.sort_values(\"CO2 2001-2010\",ascending=False).reset_index()\n",
    "df_total_usage['index'] = df_total_usage.index"
   ]
  },
  {
   "cell_type": "markdown",
   "metadata": {},
   "source": [
    "## Togliamo l'area"
   ]
  },
  {
   "cell_type": "code",
   "execution_count": 42,
   "metadata": {},
   "outputs": [],
   "source": [
    "df_total_usage_2 = df_total_usage.drop(\"Area\", axis=1,)"
   ]
  },
  {
   "cell_type": "markdown",
   "metadata": {},
   "source": [
    "## creiamo l'array con l'utilizzo totale di risorse"
   ]
  },
  {
   "cell_type": "code",
   "execution_count": 43,
   "metadata": {},
   "outputs": [
    {
     "data": {
      "text/plain": [
       "array([[0.00000000e+00, 4.22655649e+07, 5.48556263e+07, ...,\n",
       "        3.45262711e+10, 5.13034165e+10, 7.54775462e+10],\n",
       "       [1.00000000e+00, 1.08303537e+08, 1.14558199e+08, ...,\n",
       "        5.27844708e+10, 5.88610933e+10, 6.52142343e+10],\n",
       "       [2.00000000e+00, 8.09776020e+06, 1.15173986e+07, ...,\n",
       "        5.02368874e+09, 9.86901227e+09, 2.82283673e+10],\n",
       "       ...,\n",
       "       [1.71000000e+02, 1.61040000e+03, 2.11040000e+03, ...,\n",
       "        8.42872000e+05, 7.73708000e+05, 1.64810400e+06],\n",
       "       [1.72000000e+02, 3.41000000e+02, 1.31900000e+03, ...,\n",
       "        4.54670000e+05, 7.25128000e+05, 9.43862000e+05],\n",
       "       [1.73000000e+02, 0.00000000e+00, 0.00000000e+00, ...,\n",
       "        0.00000000e+00, 0.00000000e+00, 0.00000000e+00]])"
      ]
     },
     "execution_count": 43,
     "metadata": {},
     "output_type": "execute_result"
    }
   ],
   "source": [
    "array_total_usage_3 = df_total_usage_2.values\n",
    "array_total_usage_3"
   ]
  },
  {
   "cell_type": "markdown",
   "metadata": {},
   "source": [
    "## Applichiamo lo StandardScaler"
   ]
  },
  {
   "cell_type": "code",
   "execution_count": 44,
   "metadata": {},
   "outputs": [],
   "source": [
    "scaler = StandardScaler()"
   ]
  },
  {
   "cell_type": "code",
   "execution_count": 45,
   "metadata": {},
   "outputs": [],
   "source": [
    "scaled_array = scaler.fit_transform(array_total_usage_3)"
   ]
  },
  {
   "cell_type": "code",
   "execution_count": 46,
   "metadata": {},
   "outputs": [
    {
     "data": {
      "text/plain": [
       "array([[-1.72212493,  3.67820564,  4.42565155, ...,  5.92939771,\n",
       "         7.16291845,  8.47805909],\n",
       "       [-1.70221597,  9.88633131,  9.58437492, ...,  9.22848959,\n",
       "         8.26771263,  7.2807308 ],\n",
       "       [-1.68230702,  0.46614419,  0.680923  , ...,  0.59854735,\n",
       "         1.10596611,  2.96592233],\n",
       "       ...,\n",
       "       [ 1.68230702, -0.29496209, -0.31407912, ..., -0.30903556,\n",
       "        -0.33658995, -0.32703515],\n",
       "       [ 1.70221597, -0.29508143, -0.3141475 , ..., -0.30910571,\n",
       "        -0.33659705, -0.3271173 ],\n",
       "       [ 1.72212493, -0.29511348, -0.31426147, ..., -0.30918786,\n",
       "        -0.33670305, -0.32722742]])"
      ]
     },
     "execution_count": 46,
     "metadata": {},
     "output_type": "execute_result"
    }
   ],
   "source": [
    "scaled_array"
   ]
  },
  {
   "cell_type": "markdown",
   "metadata": {},
   "source": [
    "## 1 Pulizia dataframes e unione\n"
   ]
  },
  {
   "cell_type": "markdown",
   "metadata": {},
   "source": [
    "## 2 Calcolare i 5 mangimi e alimenti e graficarli per anno "
   ]
  },
  {
   "cell_type": "markdown",
   "metadata": {},
   "source": [
    "## 3 Calcolo co2 per mangime / alimento (per nazione per anno) e graficare"
   ]
  },
  {
   "cell_type": "markdown",
   "metadata": {},
   "source": [
    "## 4 Encoding"
   ]
  },
  {
   "cell_type": "markdown",
   "metadata": {},
   "source": [
    "## 5 Normalize"
   ]
  },
  {
   "cell_type": "code",
   "execution_count": null,
   "metadata": {},
   "outputs": [],
   "source": []
  }
 ],
 "metadata": {
  "kernelspec": {
   "display_name": "Python 3 (ipykernel)",
   "language": "python",
   "name": "python3"
  },
  "language_info": {
   "codemirror_mode": {
    "name": "ipython",
    "version": 3
   },
   "file_extension": ".py",
   "mimetype": "text/x-python",
   "name": "python",
   "nbconvert_exporter": "python",
   "pygments_lexer": "ipython3",
   "version": "3.9.12"
  },
  "toc": {
   "base_numbering": 1,
   "nav_menu": {},
   "number_sections": true,
   "sideBar": true,
   "skip_h1_title": false,
   "title_cell": "Table of Contents",
   "title_sidebar": "Contents",
   "toc_cell": true,
   "toc_position": {},
   "toc_section_display": true,
   "toc_window_display": true
  }
 },
 "nbformat": 4,
 "nbformat_minor": 4
}
